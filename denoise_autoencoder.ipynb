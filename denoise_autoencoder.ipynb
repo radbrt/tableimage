{
 "cells": [
  {
   "cell_type": "code",
   "execution_count": 1,
   "metadata": {},
   "outputs": [],
   "source": [
    "import pandas as pd"
   ]
  },
  {
   "cell_type": "code",
   "execution_count": 2,
   "metadata": {},
   "outputs": [],
   "source": [
    "from libing.main import longitude_matrix"
   ]
  },
  {
   "cell_type": "code",
   "execution_count": 3,
   "metadata": {},
   "outputs": [],
   "source": [
    "sdf = pd.read_feather('shopping_prepped.feather')"
   ]
  },
  {
   "cell_type": "code",
   "execution_count": null,
   "metadata": {},
   "outputs": [],
   "source": [
    "z, y = longitude_matrix(sdf, 'Customer Id', \n",
    "                     [\"AMP\", \"AUR\", \"BCN\", \"DASH\", \"DOGE\", \"DRC\", \"EOS\", \"ETH\", \"GRC\", \"IOTA\", \"KOI\", \"SRN\", \"STC\", \"UBQ\", \"ZEC\", \"Rate\"],\n",
    "                     ['Customer Id', 'Effective Date'])"
   ]
  },
  {
   "cell_type": "code",
   "execution_count": 5,
   "metadata": {},
   "outputs": [],
   "source": [
    "import numpy as np"
   ]
  },
  {
   "cell_type": "code",
   "execution_count": null,
   "metadata": {},
   "outputs": [],
   "source": [
    "noise_factor = 0.3"
   ]
  },
  {
   "cell_type": "code",
   "execution_count": null,
   "metadata": {},
   "outputs": [],
   "source": [
    "noise_factor * np.random.normal(loc=0.0, scale=1.0, size=x_train.shape)"
   ]
  },
  {
   "cell_type": "code",
   "execution_count": 8,
   "metadata": {},
   "outputs": [
    {
     "name": "stderr",
     "output_type": "stream",
     "text": [
      "Using TensorFlow backend.\n"
     ]
    }
   ],
   "source": [
    "from keras.datasets import mnist"
   ]
  },
  {
   "cell_type": "code",
   "execution_count": 9,
   "metadata": {},
   "outputs": [
    {
     "name": "stdout",
     "output_type": "stream",
     "text": [
      "Downloading data from https://s3.amazonaws.com/img-datasets/mnist.npz\n",
      "11493376/11490434 [==============================] - 3s 0us/step\n"
     ]
    }
   ],
   "source": [
    "(x_train, y_train), (x_test, y_test) = mnist.load_data()"
   ]
  },
  {
   "cell_type": "code",
   "execution_count": 14,
   "metadata": {},
   "outputs": [],
   "source": [
    "import matplotlib.pyplot as plt\n",
    "import random"
   ]
  },
  {
   "cell_type": "code",
   "execution_count": 33,
   "metadata": {},
   "outputs": [
    {
     "name": "stderr",
     "output_type": "stream",
     "text": [
      "/opt/conda/lib/python3.7/site-packages/ipykernel_launcher.py:9: MatplotlibDeprecationWarning: Adding an axes using the same arguments as a previous axes currently reuses the earlier instance.  In a future version, a new instance will always be created and returned.  Meanwhile, this warning can be suppressed, and the future behavior ensured, by passing a unique label to each axes instance.\n",
      "  if __name__ == '__main__':\n",
      "/opt/conda/lib/python3.7/site-packages/ipykernel_launcher.py:16: MatplotlibDeprecationWarning: Adding an axes using the same arguments as a previous axes currently reuses the earlier instance.  In a future version, a new instance will always be created and returned.  Meanwhile, this warning can be suppressed, and the future behavior ensured, by passing a unique label to each axes instance.\n",
      "  app.launch_new_instance()\n"
     ]
    },
    {
     "data": {
      "image/png": "[encoded data removed]",
      "text/plain": [
       "<Figure size 576x720 with 6 Axes>"
      ]
     },
     "metadata": {
      "needs_background": "light"
     },
     "output_type": "display_data"
    }
   ],
   "source": [
    "plt.figure(figsize=(8, 10))\n",
    "plt.subplot(3,2,1).set_title('normal')\n",
    "plt.subplot(3,2,2).set_title('noisy')\n",
    "plt.tight_layout()\n",
    "n = 6\n",
    "\n",
    "for i in range(1,n+1,2):\n",
    "    # 2 columns with good on left side, noisy on right side\n",
    "    ax = plt.subplot(3, 2, i)\n",
    "\n",
    "    rand_img = random.choice(x_train)\n",
    "    random_factor = 0.8 * np.random.exponential(scale=30., size=rand_img.shape)\n",
    "    # plot normal images\n",
    "    plt.imshow(rand_img, cmap=plt.cm.gray)\n",
    "    # plot noisy images\n",
    "    ax = plt.subplot(3,2,i+1)\n",
    "\n",
    "    plt.imshow(rand_img + random_factor, cmap=plt.cm.gray)\n",
    "    \n",
    "plt.show()"
   ]
  },
  {
   "cell_type": "code",
   "execution_count": 34,
   "metadata": {},
   "outputs": [
    {
     "name": "stdout",
     "output_type": "stream",
     "text": [
      "Train on 60000 samples, validate on 10000 samples\n",
      "Epoch 1/20\n",
      "60000/60000 [==============================] - 47s 787us/step - loss: 0.2388 - val_loss: 0.1921\n",
      "Epoch 2/20\n",
      "60000/60000 [==============================] - 47s 791us/step - loss: 0.1836 - val_loss: 0.1720\n",
      "Epoch 3/20\n",
      "60000/60000 [==============================] - 51s 851us/step - loss: 0.1694 - val_loss: 0.1623\n",
      "Epoch 4/20\n",
      "60000/60000 [==============================] - 49s 818us/step - loss: 0.1614 - val_loss: 0.1595\n",
      "Epoch 5/20\n",
      "60000/60000 [==============================] - 51s 853us/step - loss: 0.1543 - val_loss: 0.1488\n",
      "Epoch 6/20\n",
      "60000/60000 [==============================] - 50s 832us/step - loss: 0.1489 - val_loss: 0.1443\n",
      "Epoch 7/20\n",
      "60000/60000 [==============================] - 46s 773us/step - loss: 0.1455 - val_loss: 0.1407\n",
      "Epoch 8/20\n",
      "60000/60000 [==============================] - 49s 815us/step - loss: 0.1426 - val_loss: 0.1400\n",
      "Epoch 9/20\n",
      "60000/60000 [==============================] - 49s 813us/step - loss: 0.1404 - val_loss: 0.1377\n",
      "Epoch 10/20\n",
      "60000/60000 [==============================] - 49s 820us/step - loss: 0.1388 - val_loss: 0.1371\n",
      "Epoch 11/20\n",
      "60000/60000 [==============================] - 49s 812us/step - loss: 0.1371 - val_loss: 0.1329\n",
      "Epoch 12/20\n",
      "60000/60000 [==============================] - 48s 798us/step - loss: 0.1358 - val_loss: 0.1354\n",
      "Epoch 13/20\n",
      "60000/60000 [==============================] - 50s 837us/step - loss: 0.1348 - val_loss: 0.1353\n",
      "Epoch 14/20\n",
      "60000/60000 [==============================] - 49s 824us/step - loss: 0.1335 - val_loss: 0.1334\n",
      "Epoch 15/20\n",
      "60000/60000 [==============================] - 49s 810us/step - loss: 0.1330 - val_loss: 0.1330\n",
      "Epoch 16/20\n",
      "60000/60000 [==============================] - 48s 795us/step - loss: 0.1319 - val_loss: 0.1282\n",
      "Epoch 17/20\n",
      "60000/60000 [==============================] - 45s 749us/step - loss: 0.1312 - val_loss: 0.1298\n",
      "Epoch 18/20\n",
      "60000/60000 [==============================] - 45s 746us/step - loss: 0.1307 - val_loss: 0.1275\n",
      "Epoch 19/20\n",
      "60000/60000 [==============================] - 46s 760us/step - loss: 0.1298 - val_loss: 0.1283\n",
      "Epoch 20/20\n",
      "60000/60000 [==============================] - 49s 810us/step - loss: 0.1294 - val_loss: 0.1273\n"
     ]
    }
   ],
   "source": [
    "from keras.layers import Input, Conv2D, MaxPooling2D, UpSampling2D, ZeroPadding2D\n",
    "from keras.models import Model\n",
    "from keras.callbacks import TensorBoard\n",
    "from keras.datasets import mnist\n",
    "import numpy as np\n",
    "\n",
    "#(x_train, y_train), (x_test, y_test) = mnist.load_data()\n",
    "\n",
    "x_train = x_train.astype('float32') / 255.\n",
    "x_test = x_test.astype('float32') / 255.\n",
    "x_train = np.reshape(x_train, (len(x_train), 28, 28, 1))  # adapt this if using `channels_first` image data format\n",
    "x_test = np.reshape(x_test, (len(x_test), 28, 28, 1))  # adapt this if using `channels_first` image data format\n",
    "\n",
    "noise_factor = 0.5\n",
    "x_train_noisy = x_train + noise_factor * np.random.normal(loc=0.0, scale=1.0, size=x_train.shape)\n",
    "x_test_noisy = x_test + noise_factor * np.random.normal(loc=0.0, scale=1.0, size=x_test.shape)\n",
    "\n",
    "x_train_noisy = np.clip(x_train_noisy, 0., 1.)\n",
    "x_test_noisy = np.clip(x_test_noisy, 0., 1.)\n",
    "\n",
    "\n",
    "def train_model():\n",
    "    input_img = Input(shape=(28, 28, 1))  # adapt this if using `channels_first` image data format\n",
    "    x = Conv2D(16, (3, 3), activation='relu', padding='same')(input_img)\n",
    "    x = MaxPooling2D((2, 2), padding='same')(x)\n",
    "    x = Conv2D(8, (3, 3), activation='relu', padding='same')(x)\n",
    "    x = MaxPooling2D((2, 2), padding='same')(x)\n",
    "    x = Conv2D(8, (3, 3), activation='relu', padding='same')(x)\n",
    "    encoded = MaxPooling2D((2, 2), padding='same', name='encoder')(x)\n",
    "\n",
    "    # at this point the representation is (4, 4, 8) i.e. 128-dimensional\n",
    "\n",
    "    x = Conv2D(8, (3, 3), activation='relu', padding='same')(encoded)\n",
    "    x = UpSampling2D((2, 2))(x)\n",
    "    x = Conv2D(8, (3, 3), activation='relu', padding='same')(x)\n",
    "    x = UpSampling2D((2, 2))(x)\n",
    "    x = Conv2D(16, (3, 3), activation='relu')(x)\n",
    "    x = UpSampling2D((2, 2))(x)\n",
    "    decoded = Conv2D(1, (3, 3), activation='sigmoid', padding='same')(x)\n",
    "\n",
    "    autoencoder = Model(input_img, decoded)\n",
    "    autoencoder.compile(optimizer='adadelta', loss='binary_crossentropy')\n",
    "\n",
    "    autoencoder.fit(x_train_noisy, x_train,\n",
    "                    epochs=20,\n",
    "                    batch_size=128,\n",
    "                    shuffle=True,\n",
    "                    validation_data=(x_test_noisy, x_test),\n",
    "                    callbacks=[TensorBoard(log_dir='/tmp/tb', histogram_freq=0, write_graph=False)])\n",
    "\n",
    "    autoencoder.save('autoencoder.h5')\n",
    "\n",
    "train_model()"
   ]
  },
  {
   "cell_type": "code",
   "execution_count": 42,
   "metadata": {},
   "outputs": [
    {
     "name": "stdout",
     "output_type": "stream",
     "text": [
      "Loading mnist dataset\n",
      "mnist dataset loaded in:  21.237133741378784\n",
      "Loading model :\n",
      "Model loaded in:  1.2562365531921387\n"
     ]
    }
   ],
   "source": [
    "import numpy as np\n",
    "from keras.models import Model\n",
    "from keras.datasets import mnist\n",
    "#import cv2\n",
    "from keras.models import load_model\n",
    "from sklearn.metrics import label_ranking_average_precision_score\n",
    "import time\n",
    "\n",
    "print('Loading mnist dataset')\n",
    "t0 = time.time()\n",
    "(x_train, y_train), (x_test, y_test) = mnist.load_data()\n",
    "x_train = x_train.astype('float32') / 255.\n",
    "x_test = x_test.astype('float32') / 255.\n",
    "x_train = np.reshape(x_train, (len(x_train), 28, 28, 1))  # adapt this if using `channels_first` image data format\n",
    "x_test = np.reshape(x_test, (len(x_test), 28, 28, 1))  # adapt this if using `channels_first` image data format\n",
    "\n",
    "noise_factor = 0.5\n",
    "x_train_noisy = x_train + noise_factor * np.random.normal(loc=0.0, scale=1.0, size=x_train.shape)\n",
    "x_test_noisy = x_test + noise_factor * np.random.normal(loc=0.0, scale=1.0, size=x_test.shape)\n",
    "\n",
    "x_train_noisy = np.clip(x_train_noisy, 0., 1.)\n",
    "x_test_noisy = np.clip(x_test_noisy, 0., 1.)\n",
    "t1 = time.time()\n",
    "print('mnist dataset loaded in: ', t1-t0)\n",
    "\n",
    "print('Loading model :')\n",
    "t0 = time.time()\n",
    "# Load previously trained autoencoder\n",
    "autoencoder = load_model('autoencoder.h5')\n",
    "t1 = time.time()\n",
    "print('Model loaded in: ', t1-t0)"
   ]
  },
  {
   "cell_type": "code",
   "execution_count": 51,
   "metadata": {},
   "outputs": [],
   "source": [
    "\n",
    "def plot_denoised_images():\n",
    "    denoised_images = autoencoder.predict(x_test_noisy.reshape(x_test_noisy.shape[0], x_test_noisy.shape[1], x_test_noisy.shape[2], 1))\n",
    "    test_img = x_test_noisy[0]*255\n",
    "\n",
    "    ax = plt.subplot(3, 2, 1)\n",
    "    plt.imshow(np.squeeze(test_img), cmap=plt.cm.gray)\n",
    "    output = denoised_images[0]*255\n",
    "    ax = plt.subplot(3, 2, 2)\n",
    "    plt.imshow( np.squeeze(output), cmap=plt.cm.gray)\n"
   ]
  },
  {
   "cell_type": "code",
   "execution_count": 52,
   "metadata": {},
   "outputs": [
    {
     "name": "stderr",
     "output_type": "stream",
     "text": [
      "/opt/conda/lib/python3.7/site-packages/ipykernel_launcher.py:5: MatplotlibDeprecationWarning: Adding an axes using the same arguments as a previous axes currently reuses the earlier instance.  In a future version, a new instance will always be created and returned.  Meanwhile, this warning can be suppressed, and the future behavior ensured, by passing a unique label to each axes instance.\n",
      "  \"\"\"\n",
      "/opt/conda/lib/python3.7/site-packages/ipykernel_launcher.py:8: MatplotlibDeprecationWarning: Adding an axes using the same arguments as a previous axes currently reuses the earlier instance.  In a future version, a new instance will always be created and returned.  Meanwhile, this warning can be suppressed, and the future behavior ensured, by passing a unique label to each axes instance.\n",
      "  \n"
     ]
    },
    {
     "data": {
      "image/png": "[encoded data removed]",
      "text/plain": [
       "<Figure size 576x720 with 2 Axes>"
      ]
     },
     "metadata": {
      "needs_background": "light"
     },
     "output_type": "display_data"
    }
   ],
   "source": [
    "plt.figure(figsize=(8, 10))\n",
    "plt.subplot(3,2,1).set_title('normal')\n",
    "plt.subplot(3,2,2).set_title('noisy')\n",
    "plt.tight_layout()\n",
    "\n",
    "plot_denoised_images()"
   ]
  },
  {
   "cell_type": "code",
   "execution_count": null,
   "metadata": {},
   "outputs": [],
   "source": []
  },
  {
   "cell_type": "code",
   "execution_count": null,
   "metadata": {},
   "outputs": [],
   "source": []
  },
  {
   "cell_type": "code",
   "execution_count": null,
   "metadata": {},
   "outputs": [],
   "source": []
  },
  {
   "cell_type": "code",
   "execution_count": null,
   "metadata": {},
   "outputs": [],
   "source": []
  },
  {
   "cell_type": "code",
   "execution_count": null,
   "metadata": {},
   "outputs": [],
   "source": []
  }
 ],
 "metadata": {
  "kernelspec": {
   "display_name": "Python 3",
   "language": "python",
   "name": "python3"
  },
  "language_info": {
   "codemirror_mode": {
    "name": "ipython",
    "version": 3
   },
   "file_extension": ".py",
   "mimetype": "text/x-python",
   "name": "python",
   "nbconvert_exporter": "python",
   "pygments_lexer": "ipython3",
   "version": "3.7.3"
  }
 },
 "nbformat": 4,
 "nbformat_minor": 2
}
